### **Genome Sequence Reverter Web Application Meeting**
### *November 1st, 2018*
## Notes
* Converting Python, C/C++ codes to Javascript to be able to modify website
* Deadlines
* Correcting errors
* Importance of the Github commits 


## Converting codes
* Asuman and Cihangir should convert their codes and push

Deadlines
* 27 Nov 2018 is the due date for all of members to push up their works to Github. 

## Correcting Errors
* Everyone should be dure about they have no problem with their codes, and it is suitable for the website.

## Importance of commitment

* To be able to show our works *
